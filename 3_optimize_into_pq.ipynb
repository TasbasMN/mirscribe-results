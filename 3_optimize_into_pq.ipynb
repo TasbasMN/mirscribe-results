{
 "cells": [
  {
   "cell_type": "code",
   "execution_count": 1,
   "metadata": {},
   "outputs": [],
   "source": [
    "import dask.dataframe as dd\n",
    "import pandas as pd\n",
    "import sqlite3"
   ]
  },
  {
   "cell_type": "code",
   "execution_count": null,
   "metadata": {},
   "outputs": [],
   "source": [
    "# Define data types once\n",
    "DTYPE_REAL = {\n",
    "    'id': 'int32',\n",
    "    'pred_difference': 'float32', \n",
    "    'vcf_id': 'category',\n",
    "    'mirna_accession': 'category',\n",
    "    'gene_id': 'category', \n",
    "    'is_intron': 'bool',\n",
    "    'is_gene_upregulated': 'bool',\n",
    "    'mutsig': 'category', \n",
    "    'cancer_type': 'category'\n",
    "}\n",
    "\n",
    "DTYPE_MIRNA = {\n",
    "    'mirna_accession': 'str',\n",
    "    'mirna_family': 'category',\n",
    "    'upregulated_in_brca': 'bool',\n",
    "    'downregulated_in_brca': 'bool'\n",
    "}\n",
    "\n",
    "DTYPE_GENES = {\n",
    "    'gene_id': 'str',\n",
    "    'is_oncogene_consensus': 'bool',\n",
    "    'is_tsupp_consensus': 'bool',\n",
    "    \"is_brca_driver\": \"bool\"\n",
    "}\n",
    "\n",
    "real = pd.read_csv(\"results/dec7_combined_final.csv\", dtype=DTYPE_REAL)"
   ]
  },
  {
   "cell_type": "code",
   "execution_count": null,
   "metadata": {},
   "outputs": [],
   "source": [
    "\n",
    "\n",
    "# dropping pd4120a because it doesn't have mutsig probs\n",
    "real = real[real.vcf_id != \"PD4120a\"]\n",
    "\n",
    "with sqlite3.connect('data/mirscribe.db') as conn:\n",
    "    # Select only needed columns from SQL - reduces memory\n",
    "    mirnas = pd.read_sql_query(\"\"\"\n",
    "        SELECT mirna_accession, mirna_family, \n",
    "               upregulated_in_brca, downregulated_in_brca \n",
    "        FROM mirnas\"\"\", conn).astype(DTYPE_MIRNA)\n",
    "    \n",
    "    genes = pd.read_sql_query(\"\"\"\n",
    "        SELECT gene_id, is_oncogene_consensus, is_tsupp_consensus, is_brca_driver\n",
    "        FROM genes\"\"\", conn).astype(DTYPE_GENES)\n",
    "\n",
    "# Merge in sequence\n",
    "real = real.merge(mirnas, how=\"left\", on=\"mirna_accession\")\n",
    "real = real.merge(genes, how=\"left\", on=\"gene_id\")\n",
    "\n",
    "# filling in na's in is_onc and is_tsupp columns\n",
    "real['is_oncogene_consensus'] = real['is_oncogene_consensus'].fillna(0).astype(bool)\n",
    "real['is_tsupp_consensus'] = real['is_tsupp_consensus'].fillna(0).astype(bool)\n",
    "\n",
    "\n",
    "# final dtypes before export\n",
    "real['is_oncogene_consensus'] = real['is_oncogene_consensus'].astype(bool)\n",
    "real['is_tsupp_consensus'] = real['is_tsupp_consensus'].astype(bool)\n",
    "\n",
    "real[\"mirna_accession\"] = real[\"mirna_accession\"].astype(\"category\")\n",
    "real[\"gene_id\"] = real[\"gene_id\"].astype(\"category\")\n",
    "real['is_brca_driver'] = real['is_brca_driver'].astype(bool)\n",
    "\n"
   ]
  },
  {
   "cell_type": "code",
   "execution_count": 20,
   "metadata": {},
   "outputs": [],
   "source": [
    "rename_dict = {\n",
    "    \"upregulated_in_brca\": \"is_mirna_upregulated_in_brca\",\n",
    "    \"downregulated_in_brca\": \"is_mirna_downregulated_in_brca\"\n",
    "}\n",
    "\n",
    "real = real.rename(columns=rename_dict)"
   ]
  },
  {
   "cell_type": "code",
   "execution_count": 21,
   "metadata": {},
   "outputs": [
    {
     "data": {
      "text/plain": [
       "id                                   int32\n",
       "pred_difference                    float32\n",
       "vcf_id                            category\n",
       "mirna_accession                   category\n",
       "gene_id                           category\n",
       "is_intron                             bool\n",
       "is_gene_upregulated                   bool\n",
       "mutsig                            category\n",
       "cancer_type                       category\n",
       "mirna_family                      category\n",
       "is_mirna_upregulated_in_brca          bool\n",
       "is_mirna_downregulated_in_brca        bool\n",
       "is_oncogene_consensus                 bool\n",
       "is_tsupp_consensus                    bool\n",
       "is_brca_driver                        bool\n",
       "dtype: object"
      ]
     },
     "execution_count": 21,
     "metadata": {},
     "output_type": "execute_result"
    }
   ],
   "source": [
    "real.dtypes"
   ]
  },
  {
   "cell_type": "code",
   "execution_count": 22,
   "metadata": {},
   "outputs": [],
   "source": [
    "real.to_parquet(\"results/dec7_optimized.parquet\")\n"
   ]
  }
 ],
 "metadata": {
  "kernelspec": {
   "display_name": "mirscribe-results-441TWRXV-py3.10",
   "language": "python",
   "name": "python3"
  },
  "language_info": {
   "codemirror_mode": {
    "name": "ipython",
    "version": 3
   },
   "file_extension": ".py",
   "mimetype": "text/x-python",
   "name": "python",
   "nbconvert_exporter": "python",
   "pygments_lexer": "ipython3",
   "version": "3.10.12"
  }
 },
 "nbformat": 4,
 "nbformat_minor": 2
}
