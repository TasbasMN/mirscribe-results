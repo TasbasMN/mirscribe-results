{
 "cells": [
  {
   "cell_type": "code",
   "execution_count": 2,
   "metadata": {},
   "outputs": [],
   "source": [
    "import pandas as pd\n",
    "import sqlite3\n",
    "import os\n"
   ]
  },
  {
   "cell_type": "code",
   "execution_count": 7,
   "metadata": {},
   "outputs": [],
   "source": [
    "# Path to your large CSV file\n",
    "csv_file_path = 'results/combined.csv'\n",
    "\n",
    "# Read the CSV file using pandas, only loading a small sample to infer types\n",
    "sample_df = pd.read_csv(csv_file_path, nrows=1000)  # Adjust nrows to get enough sample data\n"
   ]
  },
  {
   "cell_type": "code",
   "execution_count": 8,
   "metadata": {},
   "outputs": [],
   "source": [
    "# Connect to SQLite database\n",
    "conn = sqlite3.connect('your_database.db')\n",
    "cursor = conn.cursor()\n",
    "\n",
    "# Generate SQL Create Table statement\n",
    "create_table_sql = \"CREATE TABLE IF NOT EXISTS your_table (\"\n",
    "\n",
    "for column_name, dtype in sample_df.dtypes.items():\n",
    "    if pd.api.types.is_integer_dtype(dtype):\n",
    "        create_table_sql += f\"{column_name} INTEGER,\"\n",
    "    elif pd.api.types.is_float_dtype(dtype):\n",
    "        create_table_sql += f\"{column_name} REAL,\"\n",
    "    else:\n",
    "        create_table_sql += f\"{column_name} TEXT,\"  # Default to TEXT for other types\n",
    "\n",
    "# Remove the last comma and conclude the statement\n",
    "create_table_sql = create_table_sql.rstrip(',') + \")\"\n",
    "cursor.execute(create_table_sql)\n",
    "conn.commit()\n"
   ]
  },
  {
   "cell_type": "code",
   "execution_count": null,
   "metadata": {},
   "outputs": [
    {
     "name": "stderr",
     "output_type": "stream",
     "text": [
      "/tmp/ipykernel_307798/98380959.py:5: DtypeWarning: Columns (12,15) have mixed types. Specify dtype option on import or set low_memory=False.\n",
      "  for chunk in pd.read_csv(csv_file_path, chunksize=chunk_size):\n",
      "/tmp/ipykernel_307798/98380959.py:5: DtypeWarning: Columns (12,15) have mixed types. Specify dtype option on import or set low_memory=False.\n",
      "  for chunk in pd.read_csv(csv_file_path, chunksize=chunk_size):\n"
     ]
    }
   ],
   "source": [
    "# Define chunk size\n",
    "chunk_size = 1000000  # Adjust this based on your needs\n",
    "\n",
    "# Read and insert in chunks\n",
    "for chunk in pd.read_csv(csv_file_path, chunksize=chunk_size):\n",
    "    chunk.to_sql('your_table', conn, if_exists='append', index=False)\n",
    "\n",
    "\n",
    "\n",
    "\n"
   ]
  }
 ],
 "metadata": {
  "kernelspec": {
   "display_name": "mirscribe-results-441TWRXV-py3.10",
   "language": "python",
   "name": "python3"
  },
  "language_info": {
   "codemirror_mode": {
    "name": "ipython",
    "version": 3
   },
   "file_extension": ".py",
   "mimetype": "text/x-python",
   "name": "python",
   "nbconvert_exporter": "python",
   "pygments_lexer": "ipython3",
   "version": "3.10.12"
  }
 },
 "nbformat": 4,
 "nbformat_minor": 2
}
