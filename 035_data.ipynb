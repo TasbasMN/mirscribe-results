{
 "cells": [
  {
   "cell_type": "code",
   "execution_count": null,
   "metadata": {},
   "outputs": [],
   "source": [
    "import pandas as pd, numpy as np, sqlite3\n",
    "import os\n",
    "from scripts.misc import *\n",
    "\n",
    "db_path = \"results.db\"\n",
    "THRESHOLD = 0.35\n",
    "ADDITIONAL_FILTER = True\n",
    "FILTER_VAL = 0.25"
   ]
  },
  {
   "cell_type": "code",
   "execution_count": 7,
   "metadata": {},
   "outputs": [
    {
     "name": "stdout",
     "output_type": "stream",
     "text": [
      "Total unique genes: 24249\n",
      "Total unique genes: 34015\n"
     ]
    }
   ],
   "source": [
    "real_counts = get_gene_regulation_counts(db_path, \"real\", THRESHOLD, apply_additional_filter=ADDITIONAL_FILTER, low_threshold=FILTER_VAL, high_threshold=1-FILTER_VAL)\n",
    "synth_counts = get_gene_regulation_counts(db_path, \"synth\", THRESHOLD, apply_additional_filter=ADDITIONAL_FILTER, low_threshold=FILTER_VAL, high_threshold=1-FILTER_VAL)\n",
    "\n",
    "counts = pd.merge(real_counts, synth_counts, how=\"inner\", on=\"gene_id\", suffixes=[\"_real\", \"_synth\"])\n",
    "counts[\"upregulated_synth\"] = counts[\"upregulated_synth\"] / 10\n",
    "counts[\"downregulated_synth\"] = counts[\"downregulated_synth\"] / 10\n",
    "\n",
    "counts['log2_odds_ratio'] = counts.apply(lambda row: calculate_log2_odds_ratio(\n",
    "    row['upregulated_real'], \n",
    "    row['downregulated_real'], \n",
    "    row['upregulated_synth'], \n",
    "    row['downregulated_synth']\n",
    "), axis=1)\n",
    "\n",
    "counts['shrunk_log2_odds'] = shrink_log2_odds(counts)\n",
    "counts = add_z_score(counts)\n",
    "counts = perform_fisher_test_vectorized(counts, bonf_holm=False)\n",
    "\n",
    "counts[\"is_significant\"] = counts['p_value'] < 0.05\n",
    "counts[\"is_significant_adj\"] = counts['p_adj'] < 0.05\n"
   ]
  },
  {
   "cell_type": "code",
   "execution_count": 17,
   "metadata": {},
   "outputs": [],
   "source": [
    "export_path = f\"results/last/{THRESHOLD:.2f}\".replace(\"0.\", \"0\")\n",
    "os.makedirs(export_path, exist_ok=True)\n",
    "count_sign = len(counts[counts.p_value < 0.05])\n",
    "count_sign_adj = len(counts[counts.p_adj < 0.05])\n",
    "filter_string = f\"{FILTER_VAL:.2f}\".replace(\".\", \"\")\n",
    "\n",
    "if ADDITIONAL_FILTER:\n",
    "    counts.to_csv(f\"{export_path}/counts_{filter_string}filter_sig{count_sign}_adj{count_sign_adj}.csv\", index=False)\n",
    "\n",
    "else:\n",
    "    counts.to_csv(f\"{export_path}/counts_nofilter?sig{count_sign}_adj{count_sign_adj}.csv\", index=False)\n",
    "    \n",
    "    "
   ]
  },
  {
   "cell_type": "code",
   "execution_count": null,
   "metadata": {},
   "outputs": [],
   "source": []
  }
 ],
 "metadata": {
  "kernelspec": {
   "display_name": "mirscribe-results-441TWRXV-py3.10",
   "language": "python",
   "name": "python3"
  },
  "language_info": {
   "codemirror_mode": {
    "name": "ipython",
    "version": 3
   },
   "file_extension": ".py",
   "mimetype": "text/x-python",
   "name": "python",
   "nbconvert_exporter": "python",
   "pygments_lexer": "ipython3",
   "version": "3.10.12"
  }
 },
 "nbformat": 4,
 "nbformat_minor": 2
}
