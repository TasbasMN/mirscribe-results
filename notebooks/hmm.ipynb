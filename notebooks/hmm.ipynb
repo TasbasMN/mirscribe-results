{
 "cells": [
  {
   "cell_type": "code",
   "execution_count": 4,
   "metadata": {},
   "outputs": [],
   "source": [
    "\n",
    "import dask.dataframe as dd\n",
    "import duckdb\n",
    "import pandas as pd\n",
    "import numpy as np\n",
    "import seaborn as sns\n",
    "import matplotlib.pyplot as plt\n",
    "from scipy.stats import fisher_exact\n",
    "from statsmodels.stats.multitest import multipletests\n",
    "from scripts.pyensembl_operations import import_pyensembl\n",
    "import sqlite3\n",
    "pd.set_option('display.max_columns', None)   # Show all columns\n"
   ]
  },
  {
   "cell_type": "code",
   "execution_count": 5,
   "metadata": {},
   "outputs": [],
   "source": [
    "real_files = \"read_csv_auto('results/dec7_combined.csv')\" \n"
   ]
  },
  {
   "cell_type": "code",
   "execution_count": 6,
   "metadata": {},
   "outputs": [
    {
     "data": {
      "text/plain": [
       "\"read_csv_auto('results/dec7_combined.csv')\""
      ]
     },
     "execution_count": 6,
     "metadata": {},
     "output_type": "execute_result"
    }
   ],
   "source": [
    "real_files"
   ]
  },
  {
   "cell_type": "code",
   "execution_count": 2,
   "metadata": {},
   "outputs": [],
   "source": [
    "def import_libraries():\n",
    "    \"\"\"Import all required libraries.\"\"\"\n",
    "    import dask.dataframe as dd\n",
    "    import duckdb\n",
    "    import pandas as pd\n",
    "    import numpy as np\n",
    "    import seaborn as sns\n",
    "    import matplotlib.pyplot as plt\n",
    "    from scripts.pyensembl_operations import import_pyensembl\n",
    "    import sqlite3\n",
    "\n",
    "    \n",
    "    pd.set_option('display.max_columns', None)\n",
    "    return dd, duckdb, pd, np, sns, plt, sqlite3, import_pyensembl\n",
    "\n",
    "def initialize_resources():\n",
    "    \"\"\"Initialize pyensembl and set file paths.\"\"\"\n",
    "    g37 = import_pyensembl(37)\n",
    "    real_files = \"read_csv_auto('results/dec7_combined.csv')\" \n",
    "    synth_files = \"read_parquet('results/processed/synth/**/*.parquet')\"\n",
    "    return g37, real_files, synth_files\n",
    "\n",
    "def pivot_counts(df):\n",
    "    \"\"\"Pivot a given DataFrame with upreg counts.\"\"\"\n",
    "    result = (df.groupby(['gene_id', 'is_gene_upregulated'])\n",
    "              .size()\n",
    "              .reset_index()\n",
    "              .compute())\n",
    "\n",
    "    result = (result.pivot(index='gene_id', \n",
    "                          columns='is_gene_upregulated', \n",
    "                          values=0)\n",
    "              .fillna(0)\n",
    "              .reset_index())\n",
    "\n",
    "    result.columns = ['gene_id', 'downreg_count', 'upreg_count']\n",
    "    return result\n",
    "\n",
    "def get_common_genes(real_files, synth_files, duckdb):\n",
    "    \"\"\"Get common gene_ids from real and synthetic files.\"\"\"\n",
    "    query_real_genes = f\"\"\"\n",
    "        SELECT DISTINCT gene_id\n",
    "        FROM {real_files}\n",
    "        WHERE vcf_id != 'PD4120a' \n",
    "        AND gene_id != 'not_found'\n",
    "    \"\"\"\n",
    "\n",
    "    query_synth_genes = f\"\"\"\n",
    "        SELECT DISTINCT gene_id\n",
    "        FROM {synth_files}\n",
    "        WHERE vcf_id != 'PD4120a' \n",
    "        AND gene_id != 'not_found'\n",
    "    \"\"\"\n",
    "\n",
    "    genes_in_real = set(duckdb.sql(query_real_genes).df()['gene_id'])\n",
    "    genes_in_synth = set(duckdb.sql(query_synth_genes).df()['gene_id'])\n",
    "    return genes_in_real.intersection(genes_in_synth)\n",
    "\n",
    "def load_and_process_data(dd):\n",
    "    \"\"\"Load and filter real and synthetic data.\"\"\"\n",
    "    real = dd.read_parquet(\"results/dec7_optimized.parquet\")\n",
    "    synth = dd.read_parquet(\"results/processed/synth/**/*.parquet\")\n",
    "\n",
    "    real = real[real.vcf_id != 'PD4120a']\n",
    "    synth = synth[synth.vcf_id != 'PD4120a']\n",
    "    real = real[real.gene_id != \"not_found\"]\n",
    "    synth = synth[synth.gene_id != \"not_found\"]\n",
    "    \n",
    "    return real, synth\n",
    "\n",
    "def process_common_genes(real, synth, common_genes):\n",
    "    \"\"\"Process and merge data for common genes.\"\"\"\n",
    "    result_real = pivot_counts(real)\n",
    "    result_synth = pivot_counts(synth)\n",
    "    \n",
    "\n",
    "    result_real = result_real[result_real.gene_id.isin(common_genes)]\n",
    "    result_synth = result_synth[result_synth.gene_id.isin(common_genes)]\n",
    "    \n",
    "    # Divide synthetic values by 10\n",
    "    result_synth[['upreg_count', 'downreg_count']] /= 10\n",
    "    \n",
    "    results_merged = pd.merge(result_real, result_synth, on='gene_id', how='left', suffixes=('_real', '_synth'))\n",
    "    results_merged[\"downreg_count_real\"] = results_merged[\"downreg_count_real\"].astype(int)\n",
    "    results_merged[\"upreg_count_real\"] = results_merged[\"upreg_count_real\"].astype(int)\n",
    "    \n",
    "    return results_merged\n",
    "\n",
    "def calculate_log2_odds_ratio(a, b, c, d, k=0.5):\n",
    "    \"\"\"Calculate log2 odds ratio with smoothing constant k.\"\"\"\n",
    "    odds_ratio = ((a + k) * (d + k)) / ((b + k) * (c + k))\n",
    "    return np.log2(odds_ratio)\n",
    "\n",
    "def shrink_log2_odds(values, prior_scale=1.0, min_count=10):\n",
    "    \"\"\"Implement empirical Bayes shrinkage for log2 odds ratios.\"\"\"\n",
    "    total_counts = (values['upreg_count_real'] + values['downreg_count_real'] +\n",
    "                   values['upreg_count_synth'] + values['downreg_count_synth'])\n",
    "    \n",
    "    raw_log2_odds = values.apply(lambda row: calculate_log2_odds_ratio(\n",
    "        row['upreg_count_real'], \n",
    "        row['downreg_count_real'], \n",
    "        row['upreg_count_synth'], \n",
    "        row['downreg_count_synth'],\n",
    "        k=0.5\n",
    "    ), axis=1)\n",
    "\n",
    "    weights = 1 - np.exp(-total_counts / min_count)\n",
    "    prior_mean = np.average(raw_log2_odds, weights=weights)\n",
    "    prior_var = np.var(raw_log2_odds)\n",
    "    posterior_scale = prior_scale / (1 + weights * prior_scale)\n",
    "    \n",
    "    return weights * raw_log2_odds + (1 - weights) * prior_mean\n",
    "\n",
    "def perform_fisher_test_vectorized(df, pseudocount=0.5):\n",
    "    \"\"\"Perform Fisher's exact test with FDR correction.\"\"\"\n",
    "    table = np.array([\n",
    "        [df['upreg_count_real'] + pseudocount, df['downreg_count_real'] + pseudocount],\n",
    "        [df['upreg_count_synth'] + pseudocount, df['downreg_count_synth'] + pseudocount]\n",
    "    ]).transpose((2, 0, 1))\n",
    "\n",
    "    p_values = np.zeros(len(df))\n",
    "    for i in range(len(df)):\n",
    "        _, p_values[i] = fisher_exact(table[i])\n",
    "\n",
    "    df['p_value'] = p_values\n",
    "    df['p_adj'] = multipletests(p_values, method='fdr_bh')[1]\n",
    "    return df\n",
    "\n",
    "def add_z_score(df):\n",
    "    \"\"\"Add Z-scores to the DataFrame.\"\"\"\n",
    "    mean_log2or = df['log2_odds_ratio'].mean()\n",
    "    std_log2or = df['log2_odds_ratio'].std()\n",
    "    df['z_score'] = (df['log2_odds_ratio'] - mean_log2or) / std_log2or\n",
    "    return df\n",
    "\n",
    "def add_gene_information(df, g37, sqlite_path='data/mirscribe.db'):\n",
    "    \"\"\"Add gene names, biotypes, and additional gene information.\"\"\"\n",
    "    gene_names = {gene.gene_id: gene.gene_name for gene in g37.genes()}\n",
    "    biotypes = {gene.gene_id: gene.biotype for gene in g37.genes()}\n",
    "\n",
    "    df[\"gene_name\"] = df[\"gene_id\"].map(gene_names)\n",
    "    df[\"biotype\"] = df[\"gene_id\"].map(biotypes)\n",
    "    df[\"is_significant\"] = df['p_adj'] < 0.05\n",
    "\n",
    "    sqlite_conn = sqlite3.connect(sqlite_path)\n",
    "    genes = pd.read_sql('SELECT * FROM genes', sqlite_conn)\n",
    "    mirnas = pd.read_sql('SELECT * FROM mirnas', sqlite_conn)\n",
    "    sqlite_conn.close()\n",
    "\n",
    "    cols_to_merge = ['gene_id', 'is_oncogene_oncokb', 'is_tsupp_oncokb',\n",
    "                     'is_brca_driver', 'tier_cosmic', 'is_hallmark_cosmic',\n",
    "                     'is_tsupp_cosmic', 'is_oncogene_cosmic', 'is_oncogene_consensus',\n",
    "                     'is_tsupp_consensus', 'cancer_gene_role']\n",
    "\n",
    "    df = pd.merge(df, genes[cols_to_merge], how=\"left\", on=\"gene_id\")\n",
    "    return df\n"
   ]
  },
  {
   "cell_type": "code",
   "execution_count": 3,
   "metadata": {},
   "outputs": [
    {
     "name": "stderr",
     "output_type": "stream",
     "text": [
      "INFO:pyensembl.sequence_data:Loaded sequence dictionary from /home/nazif/thesis/data/pyensembl/GRCh37/ensembl75/Homo_sapiens.GRCh37.75.cdna.all.fa.gz.pickle\n",
      "INFO:pyensembl.sequence_data:Loaded sequence dictionary from /home/nazif/thesis/data/pyensembl/GRCh37/ensembl75/Homo_sapiens.GRCh37.75.ncrna.fa.gz.pickle\n",
      "INFO:pyensembl.sequence_data:Loaded sequence dictionary from /home/nazif/thesis/data/pyensembl/GRCh37/ensembl75/Homo_sapiens.GRCh37.75.pep.all.fa.gz.pickle\n"
     ]
    },
    {
     "data": {
      "application/vnd.jupyter.widget-view+json": {
       "model_id": "46eb905add5547788a2beb4a09c9a8c7",
       "version_major": 2,
       "version_minor": 0
      },
      "text/plain": [
       "FloatProgress(value=0.0, layout=Layout(width='auto'), style=ProgressStyle(bar_color='black'))"
      ]
     },
     "metadata": {},
     "output_type": "display_data"
    },
    {
     "data": {
      "application/vnd.jupyter.widget-view+json": {
       "model_id": "437b9ed7243c40fdb4f137f21471da49",
       "version_major": 2,
       "version_minor": 0
      },
      "text/plain": [
       "FloatProgress(value=0.0, layout=Layout(width='auto'), style=ProgressStyle(bar_color='black'))"
      ]
     },
     "metadata": {},
     "output_type": "display_data"
    },
    {
     "ename": "OSError",
     "evalue": "[Errno 28] No space left on device",
     "output_type": "error",
     "traceback": [
      "\u001b[0;31m---------------------------------------------------------------------------\u001b[0m",
      "\u001b[0;31mOSError\u001b[0m                                   Traceback (most recent call last)",
      "Cell \u001b[0;32mIn[3], line 7\u001b[0m\n\u001b[1;32m      5\u001b[0m real, synth \u001b[38;5;241m=\u001b[39m load_and_process_data(dd)\n\u001b[1;32m      6\u001b[0m common_genes \u001b[38;5;241m=\u001b[39m get_common_genes(real_files, synth_files, duckdb)\n\u001b[0;32m----> 7\u001b[0m results_merged \u001b[38;5;241m=\u001b[39m \u001b[43mprocess_common_genes\u001b[49m\u001b[43m(\u001b[49m\u001b[43mreal\u001b[49m\u001b[43m,\u001b[49m\u001b[43m \u001b[49m\u001b[43msynth\u001b[49m\u001b[43m,\u001b[49m\u001b[43m \u001b[49m\u001b[43mcommon_genes\u001b[49m\u001b[43m)\u001b[49m\n\u001b[1;32m      9\u001b[0m \u001b[38;5;66;03m# Calculate statistics\u001b[39;00m\n\u001b[1;32m     10\u001b[0m results_merged[\u001b[38;5;124m'\u001b[39m\u001b[38;5;124mshrunk_log2_odds\u001b[39m\u001b[38;5;124m'\u001b[39m] \u001b[38;5;241m=\u001b[39m shrink_log2_odds(results_merged)\n",
      "Cell \u001b[0;32mIn[2], line 74\u001b[0m, in \u001b[0;36mprocess_common_genes\u001b[0;34m(real, synth, common_genes)\u001b[0m\n\u001b[1;32m     72\u001b[0m \u001b[38;5;250m\u001b[39m\u001b[38;5;124;03m\"\"\"Process and merge data for common genes.\"\"\"\u001b[39;00m\n\u001b[1;32m     73\u001b[0m result_real \u001b[38;5;241m=\u001b[39m pivot_counts(real)\n\u001b[0;32m---> 74\u001b[0m result_synth \u001b[38;5;241m=\u001b[39m \u001b[43mpivot_counts\u001b[49m\u001b[43m(\u001b[49m\u001b[43msynth\u001b[49m\u001b[43m)\u001b[49m\n\u001b[1;32m     77\u001b[0m result_real \u001b[38;5;241m=\u001b[39m result_real[result_real\u001b[38;5;241m.\u001b[39mgene_id\u001b[38;5;241m.\u001b[39misin(common_genes)]\n\u001b[1;32m     78\u001b[0m result_synth \u001b[38;5;241m=\u001b[39m result_synth[result_synth\u001b[38;5;241m.\u001b[39mgene_id\u001b[38;5;241m.\u001b[39misin(common_genes)]\n",
      "Cell \u001b[0;32mIn[2], line 28\u001b[0m, in \u001b[0;36mpivot_counts\u001b[0;34m(df)\u001b[0m\n\u001b[1;32m     23\u001b[0m \u001b[38;5;28;01mdef\u001b[39;00m \u001b[38;5;21mpivot_counts\u001b[39m(df):\n\u001b[1;32m     24\u001b[0m \u001b[38;5;250m    \u001b[39m\u001b[38;5;124;03m\"\"\"Pivot a given DataFrame with upreg counts.\"\"\"\u001b[39;00m\n\u001b[1;32m     25\u001b[0m     result \u001b[38;5;241m=\u001b[39m (\u001b[43mdf\u001b[49m\u001b[38;5;241;43m.\u001b[39;49m\u001b[43mgroupby\u001b[49m\u001b[43m(\u001b[49m\u001b[43m[\u001b[49m\u001b[38;5;124;43m'\u001b[39;49m\u001b[38;5;124;43mgene_id\u001b[39;49m\u001b[38;5;124;43m'\u001b[39;49m\u001b[43m,\u001b[49m\u001b[43m \u001b[49m\u001b[38;5;124;43m'\u001b[39;49m\u001b[38;5;124;43mis_gene_upregulated\u001b[39;49m\u001b[38;5;124;43m'\u001b[39;49m\u001b[43m]\u001b[49m\u001b[43m)\u001b[49m\n\u001b[1;32m     26\u001b[0m \u001b[43m              \u001b[49m\u001b[38;5;241;43m.\u001b[39;49m\u001b[43msize\u001b[49m\u001b[43m(\u001b[49m\u001b[43m)\u001b[49m\n\u001b[1;32m     27\u001b[0m \u001b[43m              \u001b[49m\u001b[38;5;241;43m.\u001b[39;49m\u001b[43mreset_index\u001b[49m\u001b[43m(\u001b[49m\u001b[43m)\u001b[49m\n\u001b[0;32m---> 28\u001b[0m \u001b[43m              \u001b[49m\u001b[38;5;241;43m.\u001b[39;49m\u001b[43mcompute\u001b[49m\u001b[43m(\u001b[49m\u001b[43m)\u001b[49m)\n\u001b[1;32m     30\u001b[0m     result \u001b[38;5;241m=\u001b[39m (result\u001b[38;5;241m.\u001b[39mpivot(index\u001b[38;5;241m=\u001b[39m\u001b[38;5;124m'\u001b[39m\u001b[38;5;124mgene_id\u001b[39m\u001b[38;5;124m'\u001b[39m, \n\u001b[1;32m     31\u001b[0m                           columns\u001b[38;5;241m=\u001b[39m\u001b[38;5;124m'\u001b[39m\u001b[38;5;124mis_gene_upregulated\u001b[39m\u001b[38;5;124m'\u001b[39m, \n\u001b[1;32m     32\u001b[0m                           values\u001b[38;5;241m=\u001b[39m\u001b[38;5;241m0\u001b[39m)\n\u001b[1;32m     33\u001b[0m               \u001b[38;5;241m.\u001b[39mfillna(\u001b[38;5;241m0\u001b[39m)\n\u001b[1;32m     34\u001b[0m               \u001b[38;5;241m.\u001b[39mreset_index())\n\u001b[1;32m     36\u001b[0m     result\u001b[38;5;241m.\u001b[39mcolumns \u001b[38;5;241m=\u001b[39m [\u001b[38;5;124m'\u001b[39m\u001b[38;5;124mgene_id\u001b[39m\u001b[38;5;124m'\u001b[39m, \u001b[38;5;124m'\u001b[39m\u001b[38;5;124mdownreg_count\u001b[39m\u001b[38;5;124m'\u001b[39m, \u001b[38;5;124m'\u001b[39m\u001b[38;5;124mupreg_count\u001b[39m\u001b[38;5;124m'\u001b[39m]\n",
      "File \u001b[0;32m~/.cache/pypoetry/virtualenvs/mirscribe-results-441TWRXV-py3.10/lib/python3.10/site-packages/dask_expr/_collection.py:481\u001b[0m, in \u001b[0;36mFrameBase.compute\u001b[0;34m(self, fuse, concatenate, **kwargs)\u001b[0m\n\u001b[1;32m    479\u001b[0m     out \u001b[38;5;241m=\u001b[39m out\u001b[38;5;241m.\u001b[39mrepartition(npartitions\u001b[38;5;241m=\u001b[39m\u001b[38;5;241m1\u001b[39m)\n\u001b[1;32m    480\u001b[0m out \u001b[38;5;241m=\u001b[39m out\u001b[38;5;241m.\u001b[39moptimize(fuse\u001b[38;5;241m=\u001b[39mfuse)\n\u001b[0;32m--> 481\u001b[0m \u001b[38;5;28;01mreturn\u001b[39;00m \u001b[43mDaskMethodsMixin\u001b[49m\u001b[38;5;241;43m.\u001b[39;49m\u001b[43mcompute\u001b[49m\u001b[43m(\u001b[49m\u001b[43mout\u001b[49m\u001b[43m,\u001b[49m\u001b[43m \u001b[49m\u001b[38;5;241;43m*\u001b[39;49m\u001b[38;5;241;43m*\u001b[39;49m\u001b[43mkwargs\u001b[49m\u001b[43m)\u001b[49m\n",
      "File \u001b[0;32m~/.cache/pypoetry/virtualenvs/mirscribe-results-441TWRXV-py3.10/lib/python3.10/site-packages/dask/base.py:372\u001b[0m, in \u001b[0;36mDaskMethodsMixin.compute\u001b[0;34m(self, **kwargs)\u001b[0m\n\u001b[1;32m    348\u001b[0m \u001b[38;5;28;01mdef\u001b[39;00m \u001b[38;5;21mcompute\u001b[39m(\u001b[38;5;28mself\u001b[39m, \u001b[38;5;241m*\u001b[39m\u001b[38;5;241m*\u001b[39mkwargs):\n\u001b[1;32m    349\u001b[0m \u001b[38;5;250m    \u001b[39m\u001b[38;5;124;03m\"\"\"Compute this dask collection\u001b[39;00m\n\u001b[1;32m    350\u001b[0m \n\u001b[1;32m    351\u001b[0m \u001b[38;5;124;03m    This turns a lazy Dask collection into its in-memory equivalent.\u001b[39;00m\n\u001b[0;32m   (...)\u001b[0m\n\u001b[1;32m    370\u001b[0m \u001b[38;5;124;03m    dask.compute\u001b[39;00m\n\u001b[1;32m    371\u001b[0m \u001b[38;5;124;03m    \"\"\"\u001b[39;00m\n\u001b[0;32m--> 372\u001b[0m     (result,) \u001b[38;5;241m=\u001b[39m \u001b[43mcompute\u001b[49m\u001b[43m(\u001b[49m\u001b[38;5;28;43mself\u001b[39;49m\u001b[43m,\u001b[49m\u001b[43m \u001b[49m\u001b[43mtraverse\u001b[49m\u001b[38;5;241;43m=\u001b[39;49m\u001b[38;5;28;43;01mFalse\u001b[39;49;00m\u001b[43m,\u001b[49m\u001b[43m \u001b[49m\u001b[38;5;241;43m*\u001b[39;49m\u001b[38;5;241;43m*\u001b[39;49m\u001b[43mkwargs\u001b[49m\u001b[43m)\u001b[49m\n\u001b[1;32m    373\u001b[0m     \u001b[38;5;28;01mreturn\u001b[39;00m result\n",
      "File \u001b[0;32m~/.cache/pypoetry/virtualenvs/mirscribe-results-441TWRXV-py3.10/lib/python3.10/site-packages/dask/base.py:660\u001b[0m, in \u001b[0;36mcompute\u001b[0;34m(traverse, optimize_graph, scheduler, get, *args, **kwargs)\u001b[0m\n\u001b[1;32m    657\u001b[0m     postcomputes\u001b[38;5;241m.\u001b[39mappend(x\u001b[38;5;241m.\u001b[39m__dask_postcompute__())\n\u001b[1;32m    659\u001b[0m \u001b[38;5;28;01mwith\u001b[39;00m shorten_traceback():\n\u001b[0;32m--> 660\u001b[0m     results \u001b[38;5;241m=\u001b[39m \u001b[43mschedule\u001b[49m\u001b[43m(\u001b[49m\u001b[43mdsk\u001b[49m\u001b[43m,\u001b[49m\u001b[43m \u001b[49m\u001b[43mkeys\u001b[49m\u001b[43m,\u001b[49m\u001b[43m \u001b[49m\u001b[38;5;241;43m*\u001b[39;49m\u001b[38;5;241;43m*\u001b[39;49m\u001b[43mkwargs\u001b[49m\u001b[43m)\u001b[49m\n\u001b[1;32m    662\u001b[0m \u001b[38;5;28;01mreturn\u001b[39;00m repack([f(r, \u001b[38;5;241m*\u001b[39ma) \u001b[38;5;28;01mfor\u001b[39;00m r, (f, a) \u001b[38;5;129;01min\u001b[39;00m \u001b[38;5;28mzip\u001b[39m(results, postcomputes)])\n",
      "File \u001b[0;32m~/.cache/pypoetry/virtualenvs/mirscribe-results-441TWRXV-py3.10/lib/python3.10/site-packages/dask_expr/_shuffle.py:501\u001b[0m, in \u001b[0;36mDiskShuffle._shuffle_group\u001b[0;34m(df, col, _filter, p)\u001b[0m\n\u001b[1;32m    499\u001b[0m g \u001b[38;5;241m=\u001b[39m df\u001b[38;5;241m.\u001b[39mgroupby(col)\n\u001b[1;32m    500\u001b[0m d \u001b[38;5;241m=\u001b[39m {i: g\u001b[38;5;241m.\u001b[39mget_group(i) \u001b[38;5;28;01mfor\u001b[39;00m i \u001b[38;5;129;01min\u001b[39;00m g\u001b[38;5;241m.\u001b[39mgroups \u001b[38;5;28;01mif\u001b[39;00m i \u001b[38;5;129;01min\u001b[39;00m _filter}\n\u001b[0;32m--> 501\u001b[0m \u001b[43mp\u001b[49m\u001b[38;5;241;43m.\u001b[39;49m\u001b[43mappend\u001b[49m\u001b[43m(\u001b[49m\u001b[43md\u001b[49m\u001b[43m,\u001b[49m\u001b[43m \u001b[49m\u001b[43mfsync\u001b[49m\u001b[38;5;241;43m=\u001b[39;49m\u001b[38;5;28;43;01mTrue\u001b[39;49;00m\u001b[43m)\u001b[49m\n",
      "File \u001b[0;32m~/.cache/pypoetry/virtualenvs/mirscribe-results-441TWRXV-py3.10/lib/python3.10/site-packages/partd/encode.py:25\u001b[0m, in \u001b[0;36mEncode.append\u001b[0;34m(self, data, **kwargs)\u001b[0m\n\u001b[1;32m     23\u001b[0m data \u001b[38;5;241m=\u001b[39m valmap(\u001b[38;5;28mself\u001b[39m\u001b[38;5;241m.\u001b[39mencode, data)\n\u001b[1;32m     24\u001b[0m data \u001b[38;5;241m=\u001b[39m valmap(frame, data)\n\u001b[0;32m---> 25\u001b[0m \u001b[38;5;28;43mself\u001b[39;49m\u001b[38;5;241;43m.\u001b[39;49m\u001b[43mpartd\u001b[49m\u001b[38;5;241;43m.\u001b[39;49m\u001b[43mappend\u001b[49m\u001b[43m(\u001b[49m\u001b[43mdata\u001b[49m\u001b[43m,\u001b[49m\u001b[43m \u001b[49m\u001b[38;5;241;43m*\u001b[39;49m\u001b[38;5;241;43m*\u001b[39;49m\u001b[43mkwargs\u001b[49m\u001b[43m)\u001b[49m\n",
      "File \u001b[0;32m~/.cache/pypoetry/virtualenvs/mirscribe-results-441TWRXV-py3.10/lib/python3.10/site-packages/partd/buffer.py:45\u001b[0m, in \u001b[0;36mBuffer.append\u001b[0;34m(self, data, lock, **kwargs)\u001b[0m\n\u001b[1;32m     43\u001b[0m     \u001b[38;5;28;01mwhile\u001b[39;00m \u001b[38;5;28mself\u001b[39m\u001b[38;5;241m.\u001b[39mmemory_usage \u001b[38;5;241m>\u001b[39m \u001b[38;5;28mself\u001b[39m\u001b[38;5;241m.\u001b[39mavailable_memory:\n\u001b[1;32m     44\u001b[0m         keys \u001b[38;5;241m=\u001b[39m keys_to_flush(\u001b[38;5;28mself\u001b[39m\u001b[38;5;241m.\u001b[39mlengths, \u001b[38;5;241m0.1\u001b[39m, maxcount\u001b[38;5;241m=\u001b[39m\u001b[38;5;241m20\u001b[39m)\n\u001b[0;32m---> 45\u001b[0m         \u001b[38;5;28;43mself\u001b[39;49m\u001b[38;5;241;43m.\u001b[39;49m\u001b[43mflush\u001b[49m\u001b[43m(\u001b[49m\u001b[43mkeys\u001b[49m\u001b[43m)\u001b[49m\n\u001b[1;32m     47\u001b[0m \u001b[38;5;28;01mfinally\u001b[39;00m:\n\u001b[1;32m     48\u001b[0m     \u001b[38;5;28;01mif\u001b[39;00m lock: \u001b[38;5;28mself\u001b[39m\u001b[38;5;241m.\u001b[39mlock\u001b[38;5;241m.\u001b[39mrelease()\n",
      "File \u001b[0;32m~/.cache/pypoetry/virtualenvs/mirscribe-results-441TWRXV-py3.10/lib/python3.10/site-packages/partd/buffer.py:99\u001b[0m, in \u001b[0;36mBuffer.flush\u001b[0;34m(self, keys, block)\u001b[0m\n\u001b[1;32m     96\u001b[0m \u001b[38;5;28;01mif\u001b[39;00m keys \u001b[38;5;129;01mis\u001b[39;00m \u001b[38;5;28;01mNone\u001b[39;00m:\n\u001b[1;32m     97\u001b[0m     keys \u001b[38;5;241m=\u001b[39m \u001b[38;5;28mlist\u001b[39m(\u001b[38;5;28mself\u001b[39m\u001b[38;5;241m.\u001b[39mlengths)\n\u001b[0;32m---> 99\u001b[0m \u001b[38;5;28;43mself\u001b[39;49m\u001b[38;5;241;43m.\u001b[39;49m\u001b[43mslow\u001b[49m\u001b[38;5;241;43m.\u001b[39;49m\u001b[43mappend\u001b[49m\u001b[43m(\u001b[49m\u001b[38;5;28;43mdict\u001b[39;49m\u001b[43m(\u001b[49m\u001b[38;5;28;43mzip\u001b[39;49m\u001b[43m(\u001b[49m\u001b[43mkeys\u001b[49m\u001b[43m,\u001b[49m\u001b[43m \u001b[49m\u001b[38;5;28;43mself\u001b[39;49m\u001b[38;5;241;43m.\u001b[39;49m\u001b[43mfast\u001b[49m\u001b[38;5;241;43m.\u001b[39;49m\u001b[43mget\u001b[49m\u001b[43m(\u001b[49m\u001b[43mkeys\u001b[49m\u001b[43m)\u001b[49m\u001b[43m)\u001b[49m\u001b[43m)\u001b[49m\u001b[43m)\u001b[49m\n\u001b[1;32m    100\u001b[0m \u001b[38;5;28mself\u001b[39m\u001b[38;5;241m.\u001b[39mfast\u001b[38;5;241m.\u001b[39mdelete(keys)\n\u001b[1;32m    102\u001b[0m \u001b[38;5;28;01mfor\u001b[39;00m key \u001b[38;5;129;01min\u001b[39;00m keys:\n",
      "File \u001b[0;32m~/.cache/pypoetry/virtualenvs/mirscribe-results-441TWRXV-py3.10/lib/python3.10/site-packages/partd/file.py:42\u001b[0m, in \u001b[0;36mFile.append\u001b[0;34m(self, data, lock, fsync, **kwargs)\u001b[0m\n\u001b[1;32m     40\u001b[0m     os\u001b[38;5;241m.\u001b[39mmakedirs(os\u001b[38;5;241m.\u001b[39mpath\u001b[38;5;241m.\u001b[39mdirname(fn))\n\u001b[1;32m     41\u001b[0m \u001b[38;5;28;01mwith\u001b[39;00m \u001b[38;5;28mopen\u001b[39m(fn, \u001b[38;5;124m'\u001b[39m\u001b[38;5;124mab\u001b[39m\u001b[38;5;124m'\u001b[39m) \u001b[38;5;28;01mas\u001b[39;00m f:\n\u001b[0;32m---> 42\u001b[0m     \u001b[43mf\u001b[49m\u001b[38;5;241;43m.\u001b[39;49m\u001b[43mwrite\u001b[49m\u001b[43m(\u001b[49m\u001b[43mv\u001b[49m\u001b[43m)\u001b[49m\n\u001b[1;32m     43\u001b[0m     \u001b[38;5;28;01mif\u001b[39;00m fsync:\n\u001b[1;32m     44\u001b[0m         os\u001b[38;5;241m.\u001b[39mfsync(f)\n",
      "\u001b[0;31mOSError\u001b[0m: [Errno 28] No space left on device"
     ]
    }
   ],
   "source": [
    "# dd, duckdb, pd, np, sns, plt, sqlite3, import_pyensembl = import_libraries()\n",
    "g37, real_files, synth_files = initialize_resources()\n",
    "\n",
    "# Load and process data\n",
    "real, synth = load_and_process_data(dd)\n",
    "common_genes = get_common_genes(real_files, synth_files, duckdb)\n",
    "results_merged = process_common_genes(real, synth, common_genes)\n",
    "\n",
    "# Calculate statistics\n",
    "results_merged['shrunk_log2_odds'] = shrink_log2_odds(results_merged)\n",
    "df = perform_fisher_test_vectorized(results_merged)\n",
    "\n",
    "# Add gene information\n",
    "df = add_gene_information(df, g37)"
   ]
  },
  {
   "cell_type": "code",
   "execution_count": null,
   "metadata": {},
   "outputs": [],
   "source": [
    "df = df[df.is_significant == True]"
   ]
  },
  {
   "cell_type": "code",
   "execution_count": null,
   "metadata": {},
   "outputs": [],
   "source": [
    "df.head()"
   ]
  }
 ],
 "metadata": {
  "kernelspec": {
   "display_name": "mirscribe-results-441TWRXV-py3.10",
   "language": "python",
   "name": "python3"
  },
  "language_info": {
   "codemirror_mode": {
    "name": "ipython",
    "version": 3
   },
   "file_extension": ".py",
   "mimetype": "text/x-python",
   "name": "python",
   "nbconvert_exporter": "python",
   "pygments_lexer": "ipython3",
   "version": "3.10.12"
  }
 },
 "nbformat": 4,
 "nbformat_minor": 2
}
