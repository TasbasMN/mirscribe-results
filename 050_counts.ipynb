{
 "cells": [
  {
   "cell_type": "code",
   "execution_count": null,
   "metadata": {},
   "outputs": [
    {
     "name": "stderr",
     "output_type": "stream",
     "text": [
      "INFO:pyensembl.sequence_data:Loaded sequence dictionary from /home/nazif/thesis/data/pyensembl/GRCh37/ensembl75/Homo_sapiens.GRCh37.75.cdna.all.fa.gz.pickle\n",
      "INFO:pyensembl.sequence_data:Loaded sequence dictionary from /home/nazif/thesis/data/pyensembl/GRCh37/ensembl75/Homo_sapiens.GRCh37.75.ncrna.fa.gz.pickle\n",
      "INFO:pyensembl.sequence_data:Loaded sequence dictionary from /home/nazif/thesis/data/pyensembl/GRCh37/ensembl75/Homo_sapiens.GRCh37.75.pep.all.fa.gz.pickle\n"
     ]
    }
   ],
   "source": [
    "import pandas as pd\n",
    "import sqlite3\n",
    "import os\n",
    "import re\n",
    "\n",
    "pd.set_option('display.max_columns', None)   # Show all columns\n",
    "\n",
    "\n",
    "FOLDER_PATH = \"results/050/\""
   ]
  },
  {
   "cell_type": "code",
   "execution_count": 6,
   "metadata": {},
   "outputs": [],
   "source": [
    "def load_and_merge_dataframes(folder_path, db_path=\"data/mirscribe.db\"):\n",
    "    # Get list of all CSV files in the folder\n",
    "    csv_files = glob(os.path.join(folder_path, \"*.csv\"))\n",
    "\n",
    "    # First read the genes data from SQLite\n",
    "    with sqlite3.connect(db_path) as sqlite_conn:\n",
    "        genes = pd.read_sql('SELECT * FROM genes', sqlite_conn)\n",
    "        mirnas = pd.read_sql('SELECT * FROM mirnas', sqlite_conn)\n",
    "\n",
    "    # Columns to merge from genes table\n",
    "    cols_to_merge_genes = ['gene_id','gene_name', 'is_oncogene_oncokb', 'is_tsupp_oncokb',\n",
    "           'is_brca_driver', 'tier_cosmic', 'is_hallmark_cosmic',\n",
    "           'is_tsupp_cosmic', 'is_oncogene_cosmic', 'is_oncogene_consensus',\n",
    "           'is_tsupp_consensus', 'cancer_gene_role']\n",
    "\n",
    "    # Function to extract dataframe name from filename\n",
    "    def get_df_name(filename):\n",
    "        # Extract the part between 'counts_' and '.csv'\n",
    "        match = re.search(r'counts_(.*?)\\.csv', filename)\n",
    "        if match:\n",
    "            return f\"df_{match.group(1)}\"\n",
    "        else:\n",
    "            return f\"df_{os.path.splitext(os.path.basename(filename))[0]}\"\n",
    "\n",
    "    dataframes = {}\n",
    "\n",
    "    # Read each CSV file and merge with genes data\n",
    "    for file in csv_files:\n",
    "        df_name = get_df_name(file)\n",
    "        # Read CSV\n",
    "        df = pd.read_csv(file)\n",
    "        # Merge with genes data\n",
    "        df = pd.merge(df, genes[cols_to_merge_genes], \n",
    "                     how=\"left\", \n",
    "                     on=\"gene_id\")\n",
    "        print(f\"Loaded and merged {file} as {df_name}\")\n",
    "        dataframes[df_name] = df\n",
    "\n",
    "    return dataframes"
   ]
  },
  {
   "cell_type": "code",
   "execution_count": 3,
   "metadata": {},
   "outputs": [
    {
     "ename": "NameError",
     "evalue": "name 'load_and_merge_dataframes' is not defined",
     "output_type": "error",
     "traceback": [
      "\u001b[0;31m---------------------------------------------------------------------------\u001b[0m",
      "\u001b[0;31mNameError\u001b[0m                                 Traceback (most recent call last)",
      "Cell \u001b[0;32mIn[3], line 1\u001b[0m\n\u001b[0;32m----> 1\u001b[0m dfs \u001b[38;5;241m=\u001b[39m \u001b[43mload_and_merge_dataframes\u001b[49m(FOLDER_PATH)\n",
      "\u001b[0;31mNameError\u001b[0m: name 'load_and_merge_dataframes' is not defined"
     ]
    }
   ],
   "source": [
    "dfs = load_and_merge_dataframes(FOLDER_PATH)"
   ]
  },
  {
   "cell_type": "code",
   "execution_count": 48,
   "metadata": {},
   "outputs": [
    {
     "name": "stdout",
     "output_type": "stream",
     "text": [
      "\n",
      "=== df_sig36_adj0_filter0.10 Cancer Gene Role Counts ===\n",
      "cancer_gene_role\n",
      "neither     34\n",
      "oncogene     2\n",
      "Name: count, dtype: int64\n",
      "Total significant genes: 36\n",
      "\n",
      "=== df_sig567_adj4_filter0.25 Cancer Gene Role Counts ===\n",
      "cancer_gene_role\n",
      "neither             544\n",
      "tumor_suppressor     12\n",
      "oncogene              9\n",
      "dual_role             2\n",
      "Name: count, dtype: int64\n",
      "Total significant genes: 567\n",
      "\n",
      "=== df_sig1306_adj21 Cancer Gene Role Counts ===\n",
      "cancer_gene_role\n",
      "neither             1252\n",
      "tumor_suppressor      27\n",
      "oncogene              21\n",
      "dual_role              6\n",
      "Name: count, dtype: int64\n",
      "Total significant genes: 1306\n"
     ]
    }
   ],
   "source": [
    "for name, df in dfs.items():\n",
    "    print(f\"\\n=== {name} Cancer Gene Role Counts ===\")\n",
    "    print(df[df.is_significant].cancer_gene_role.value_counts())\n",
    "    print(f\"Total significant genes: {df.is_significant.sum()}\")\n"
   ]
  },
  {
   "cell_type": "code",
   "execution_count": 53,
   "metadata": {},
   "outputs": [
    {
     "name": "stdout",
     "output_type": "stream",
     "text": [
      "\n",
      "=== df_sig36_adj0_filter0.10 DF ===\n",
      "Total significant BRCA drivers: 1\n",
      "Total significant genes: 36\n",
      "\n",
      "=== df_sig567_adj4_filter0.25 DF ===\n",
      "Total significant BRCA drivers: 4\n",
      "Total significant genes: 567\n",
      "\n",
      "=== df_sig1306_adj21 DF ===\n",
      "Total significant BRCA drivers: 6\n",
      "Total significant genes: 1306\n"
     ]
    }
   ],
   "source": [
    "for name, df in dfs.items():\n",
    "    sig_brca = df[df['is_significant'] & df['is_brca_driver']]\n",
    "    print(f\"\\n=== {name} DF ===\")\n",
    "    print(f\"Total significant BRCA drivers: {len(sig_brca)}\")\n",
    "    print(f\"Total significant genes: {df['is_significant'].sum()}\")"
   ]
  },
  {
   "cell_type": "code",
   "execution_count": 61,
   "metadata": {},
   "outputs": [
    {
     "name": "stdout",
     "output_type": "stream",
     "text": [
      "\n",
      "=== df_sig36_adj0_filter0.10 ===\n",
      "     gene_name  log2_odds_ratio cancer_gene_role supports_role\n",
      "2285      UBR5         4.523104         oncogene      Supports\n",
      "\n",
      "Total rows: 1\n",
      "Supports: 1\n",
      "Contradicts: 0\n",
      "--------------------------------------------------\n",
      "\n",
      "=== df_sig567_adj4_filter0.25 ===\n",
      "     gene_name  log2_odds_ratio  cancer_gene_role supports_role\n",
      "2797      UBR5         1.802573          oncogene      Supports\n",
      "648     ARID1B         1.450559  tumor_suppressor   Contradicts\n",
      "136       ETV1         1.378080          oncogene      Supports\n",
      "1464  HSP90AA1        -1.558361          oncogene   Contradicts\n",
      "\n",
      "Total rows: 4\n",
      "Supports: 2\n",
      "Contradicts: 2\n",
      "--------------------------------------------------\n",
      "\n",
      "=== df_sig1306_adj21 ===\n",
      "      gene_name  log2_odds_ratio  cancer_gene_role supports_role\n",
      "657      ARID1B         1.156983  tumor_suppressor   Contradicts\n",
      "2846       UBR5         1.139366          oncogene      Supports\n",
      "12407      PTEN         0.908239  tumor_suppressor   Contradicts\n",
      "15510      FAT4         0.869824  tumor_suppressor   Contradicts\n",
      "137        ETV1         0.860992          oncogene      Supports\n",
      "1486   HSP90AA1        -1.368315          oncogene   Contradicts\n",
      "\n",
      "Total rows: 6\n",
      "Supports: 2\n",
      "Contradicts: 4\n",
      "--------------------------------------------------\n"
     ]
    }
   ],
   "source": [
    "for name, df in dfs.items():\n",
    "    print(f\"\\n=== {name} ===\")\n",
    "    filtered_df = df[df['is_significant'] & df['is_brca_driver']][[\"gene_name\", \"log2_odds_ratio\", \"cancer_gene_role\"]]\n",
    "    filtered_df = filtered_df.sort_values('log2_odds_ratio', ascending=False)\n",
    "    \n",
    "    # Add new column based on conditions\n",
    "    filtered_df['supports_role'] = filtered_df.apply(lambda row: \n",
    "        \"Supports\" if (row['cancer_gene_role'] == 'oncogene' and row['log2_odds_ratio'] > 0) or \n",
    "                      (row['cancer_gene_role'] == 'tumor_suppressor' and row['log2_odds_ratio'] < 0) \n",
    "        else \"Contradicts\", axis=1)\n",
    "    \n",
    "    print(filtered_df)\n",
    "    print(f\"\\nTotal rows: {len(filtered_df)}\")\n",
    "    print(f\"Supports: {(filtered_df['supports_role'] == 'Supports').sum()}\")\n",
    "    print(f\"Contradicts: {(filtered_df['supports_role'] == 'Contradicts').sum()}\")\n",
    "    print(\"-\" * 50)\n"
   ]
  }
 ],
 "metadata": {
  "kernelspec": {
   "display_name": "mirscribe-results-441TWRXV-py3.10",
   "language": "python",
   "name": "python3"
  },
  "language_info": {
   "codemirror_mode": {
    "name": "ipython",
    "version": 3
   },
   "file_extension": ".py",
   "mimetype": "text/x-python",
   "name": "python",
   "nbconvert_exporter": "python",
   "pygments_lexer": "ipython3",
   "version": "3.10.12"
  }
 },
 "nbformat": 4,
 "nbformat_minor": 2
}
