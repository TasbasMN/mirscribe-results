{
 "cells": [
  {
   "cell_type": "code",
   "execution_count": null,
   "metadata": {},
   "outputs": [],
   "source": [
    "i"
   ]
  },
  {
   "cell_type": "code",
   "execution_count": 8,
   "metadata": {},
   "outputs": [
    {
     "name": "stdout",
     "output_type": "stream",
     "text": [
      "1_apply_step_5.py                explore.ipynb                 \u001b[0m\u001b[01;32mpyproject.toml\u001b[0m*\n",
      "2_csvs.ipynb                     final_data_creation.ipynb     \u001b[01;32mREADME.md\u001b[0m*\n",
      "2_stitch_and_post_process.ipynb  final_data_exploration.ipynb  \u001b[01;34mresults\u001b[0m/\n",
      "3_sql.ipynb                      \u001b[01;32mimport_results_to_df.py\u001b[0m*      \u001b[01;34mscripts\u001b[0m/\n",
      "\u001b[01;34mdata\u001b[0m/                            notes.md                      \u001b[01;34mwip\u001b[0m/\n",
      "\u001b[01;34mdownloads\u001b[0m/                       off.ipynb                     yeni_step5.ipynb\n",
      "explore_day_2.ipynb              \u001b[01;32mpoetry.lock\u001b[0m*\n"
     ]
    }
   ],
   "source": [
    "ls"
   ]
  },
  {
   "cell_type": "code",
   "execution_count": null,
   "metadata": {},
   "outputs": [],
   "source": [
    "# Keep header from first file, then combine all data\n",
    "!awk 'FNR==1 && NR!=1{next;}{print}' results/real/*.csv > results/dec7_combined.csv\n"
   ]
  },
  {
   "cell_type": "code",
   "execution_count": null,
   "metadata": {},
   "outputs": [],
   "source": [
    "# Extract the first column to a separate file\n",
    "!cut -d',' -f1 results/combined_dec7.csv > results/dec7_ids.csv\n"
   ]
  },
  {
   "cell_type": "code",
   "execution_count": 11,
   "metadata": {},
   "outputs": [],
   "source": [
    "# Create a new file with numbered IDs\n",
    "!awk 'BEGIN {FS=OFS=\",\"} NR==1 {print $0; next} {$1=NR-2; print}' results/dec7_combined.csv > results/dec7_combined_no_id.csv\n"
   ]
  },
  {
   "cell_type": "code",
   "execution_count": 2,
   "metadata": {},
   "outputs": [],
   "source": [
    "!awk 'BEGIN {FS=OFS=\",\"} {print $1,$4,$5,$6,$7,$8,$11,$12,$14}' results/dec7_combined_no_id.csv > results/dec7_combined_final.csv\n"
   ]
  }
 ],
 "metadata": {
  "kernelspec": {
   "display_name": "mirscribe-results-441TWRXV-py3.10",
   "language": "python",
   "name": "python3"
  },
  "language_info": {
   "codemirror_mode": {
    "name": "ipython",
    "version": 3
   },
   "file_extension": ".py",
   "mimetype": "text/x-python",
   "name": "python",
   "nbconvert_exporter": "python",
   "pygments_lexer": "ipython3",
   "version": "3.10.12"
  }
 },
 "nbformat": 4,
 "nbformat_minor": 2
}
