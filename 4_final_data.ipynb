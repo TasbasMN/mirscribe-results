{
 "cells": [
  {
   "cell_type": "code",
   "execution_count": 1,
   "metadata": {},
   "outputs": [
    {
     "name": "stderr",
     "output_type": "stream",
     "text": [
      "INFO:pyensembl.sequence_data:Loaded sequence dictionary from /home/nazif/thesis/data/pyensembl/GRCh37/ensembl75/Homo_sapiens.GRCh37.75.cdna.all.fa.gz.pickle\n",
      "INFO:pyensembl.sequence_data:Loaded sequence dictionary from /home/nazif/thesis/data/pyensembl/GRCh37/ensembl75/Homo_sapiens.GRCh37.75.ncrna.fa.gz.pickle\n",
      "INFO:pyensembl.sequence_data:Loaded sequence dictionary from /home/nazif/thesis/data/pyensembl/GRCh37/ensembl75/Homo_sapiens.GRCh37.75.pep.all.fa.gz.pickle\n"
     ]
    }
   ],
   "source": [
    "import dask.dataframe as dd\n",
    "import duckdb\n",
    "import pandas as pd\n",
    "import numpy as np\n",
    "import seaborn as sns\n",
    "import matplotlib.pyplot as plt\n",
    "from scipy.stats import fisher_exact\n",
    "from statsmodels.stats.multitest import multipletests\n",
    "from scripts.pyensembl_operations import import_pyensembl\n",
    "import sqlite3\n",
    "\n",
    "# Initialize pyensembl\n",
    "g37 = import_pyensembl(37)\n",
    "\n",
    "# For DuckDB queries, use correct file format readers\n",
    "real_files = \"read_csv_auto('results/dec7_combined.csv')\"  # Changed from parquet to csv\n",
    "synth_files = \"read_parquet('results/processed/synth/**/*.parquet')\"\n"
   ]
  },
  {
   "cell_type": "code",
   "execution_count": 2,
   "metadata": {},
   "outputs": [
    {
     "data": {
      "application/vnd.jupyter.widget-view+json": {
       "model_id": "8a5b0ebaf2b548cfa0fd5ad086aec281",
       "version_major": 2,
       "version_minor": 0
      },
      "text/plain": [
       "FloatProgress(value=0.0, layout=Layout(width='auto'), style=ProgressStyle(bar_color='black'))"
      ]
     },
     "metadata": {},
     "output_type": "display_data"
    },
    {
     "data": {
      "application/vnd.jupyter.widget-view+json": {
       "model_id": "d0215c156bc54d1697ec279a5183594c",
       "version_major": 2,
       "version_minor": 0
      },
      "text/plain": [
       "FloatProgress(value=0.0, layout=Layout(width='auto'), style=ProgressStyle(bar_color='black'))"
      ]
     },
     "metadata": {},
     "output_type": "display_data"
    }
   ],
   "source": [
    "query_real = f\"\"\"\n",
    "    SELECT \n",
    "        gene_id,\n",
    "        COUNT(*) FILTER (WHERE is_gene_upregulated = TRUE) as upregulated,\n",
    "        COUNT(*) FILTER (WHERE is_gene_upregulated = FALSE) as downregulated\n",
    "    FROM {real_files}\n",
    "    WHERE vcf_id != 'PD4120a' \n",
    "    AND gene_id != 'not_found'\n",
    "    GROUP BY gene_id\n",
    "\"\"\"\n",
    "\n",
    "result_real = duckdb.sql(query_real).df()\n",
    "\n",
    "query_synth = f\"\"\"\n",
    "    SELECT \n",
    "        gene_id,\n",
    "        COUNT(*) FILTER (WHERE is_gene_upregulated = TRUE) as upregulated,\n",
    "        COUNT(*) FILTER (WHERE is_gene_upregulated = FALSE) as downregulated\n",
    "    FROM {synth_files}\n",
    "    WHERE vcf_id != 'PD4120a'\n",
    "    AND gene_id != 'not_found'\n",
    "    GROUP BY gene_id\n",
    "\"\"\"\n",
    "\n",
    "result_synth = duckdb.sql(query_synth).df()\n"
   ]
  },
  {
   "cell_type": "code",
   "execution_count": null,
   "metadata": {},
   "outputs": [],
   "source": [
    "real = dd.read_csv(\"results/dec7_combined.csv\")\n",
    "synth = dd.read_parquet(\"results/processed/synth/**/*.parquet\")\n",
    "# Filter out PD4120a\n",
    "\n",
    "real = real[real.vcf_id != 'PD4120a']\n",
    "synth = synth[synth.vcf_id != 'PD4120a']\n"
   ]
  },
  {
   "cell_type": "markdown",
   "metadata": {},
   "source": [
    "# taking the crossection and merging the dfs together"
   ]
  },
  {
   "cell_type": "code",
   "execution_count": null,
   "metadata": {},
   "outputs": [],
   "source": [
    "common_genes = list(set(result_real.gene_id)  & set(result_synth.gene_id))\n",
    "result_real = result_real[result_real.gene_id.isin(common_genes)]\n",
    "result_synth = result_synth[result_synth.gene_id.isin(common_genes)]\n",
    "\n",
    "# divide synth amounts by 10\n",
    "result_synth[\"upregulated\"] = result_synth[\"upregulated\"] / 10\n",
    "result_synth[\"downregulated\"] = result_synth[\"downregulated\"] / 10\n",
    "\n",
    "# remove not_found\n",
    "result_real = result_real[result_real.gene_id != \"not_found\"]\n",
    "result_synth = result_synth[result_synth.gene_id != \"not_found\"]\n",
    "\n",
    "values = pd.merge(result_real, result_synth, on=\"gene_id\", suffixes=[\"_real\", \"_synth\"])\n"
   ]
  },
  {
   "cell_type": "markdown",
   "metadata": {},
   "source": [
    "# steps\n",
    "\n",
    "drop PD4120a\n",
    "\n",
    "drop gene_id == not_found\n",
    "\n",
    "take crossection of real and synth\n",
    "\n",
    "take avg of 10 synths\n"
   ]
  },
  {
   "cell_type": "markdown",
   "metadata": {},
   "source": [
    "# log2odds"
   ]
  },
  {
   "cell_type": "code",
   "execution_count": null,
   "metadata": {},
   "outputs": [],
   "source": [
    "def calculate_log2_odds_ratio(a, b, c, d, k=0.5):\n",
    "    # a, b, c, d are the four cells of the 2x2 contingency table\n",
    "    # k is the smoothing constant\n",
    "    #\n",
    "    odds_ratio = ((a + k) * (d + k)) / ((b + k) * (c + k))\n",
    "    return np.log2(odds_ratio)\n",
    "\n",
    "# laplace smoothing with k=0.5 (Jeffreys prior)\n",
    "values['log2_odds_ratio'] = values.apply(lambda row: calculate_log2_odds_ratio(\n",
    "    row['upregulated_real'], \n",
    "    row['downregulated_real'], \n",
    "    row['upregulated_synth'], \n",
    "    row['downregulated_synth']\n",
    "), axis=1)\n",
    "\n",
    "values"
   ]
  },
  {
   "cell_type": "markdown",
   "metadata": {},
   "source": [
    "# fisher's exact"
   ]
  },
  {
   "cell_type": "code",
   "execution_count": null,
   "metadata": {},
   "outputs": [],
   "source": [
    "def perform_fisher_test_vectorized(df, pseudocount=0.5):\n",
    "    # Add pseudocount to the table\n",
    "    table = np.array([\n",
    "        [df['upregulated_real'] + pseudocount, df['downregulated_real'] + pseudocount],\n",
    "        [df['upregulated_synth'] + pseudocount, df['downregulated_synth'] + pseudocount]\n",
    "    ]).transpose((2, 0, 1))  # reshape for 2x2 tables\n",
    "\n",
    "    p_values = np.zeros(len(df))\n",
    "\n",
    "    for i in range(len(df)):\n",
    "        _, p_values[i] = fisher_exact(table[i])\n",
    "\n",
    "    df['p_value'] = p_values\n",
    "    df['p_adj'] = multipletests(p_values, method='fdr_bh')[1]\n",
    "    \n",
    "    return df\n",
    "def add_z_score(df):\n",
    "    # Calculate mean and standard deviation of log2 odds ratios\n",
    "    mean_log2or = df['log2_odds_ratio'].mean()\n",
    "    std_log2or = df['log2_odds_ratio'].std()\n",
    "    \n",
    "    # Calculate Z-score\n",
    "    df['z_score'] = (df['log2_odds_ratio'] - mean_log2or) / std_log2or\n",
    "    \n",
    "    return df\n",
    "\n",
    "\n",
    "df = perform_fisher_test_vectorized(values)\n",
    "df = add_z_score(df)\n",
    "df.head()"
   ]
  },
  {
   "cell_type": "markdown",
   "metadata": {},
   "source": [
    "# adding pyensembl stuff"
   ]
  },
  {
   "cell_type": "code",
   "execution_count": null,
   "metadata": {},
   "outputs": [],
   "source": [
    "# Create dictionaries for both gene names and biotypes\n",
    "gene_names = {gene.gene_id: gene.gene_name for gene in g37.genes()}\n",
    "biotypes = {gene.gene_id: gene.biotype for gene in g37.genes()}\n",
    "\n",
    "# Add both columns to the DataFrame\n",
    "df[\"gene_name\"] = df[\"gene_id\"].map(gene_names)\n",
    "df[\"biotype\"] = df[\"gene_id\"].map(biotypes)\n",
    "\n",
    "df.head()\n"
   ]
  },
  {
   "cell_type": "markdown",
   "metadata": {},
   "source": [
    "# further augments"
   ]
  },
  {
   "cell_type": "code",
   "execution_count": null,
   "metadata": {},
   "outputs": [],
   "source": [
    "df[\"is_significant\"] = df['p_adj'] < 0.05\n",
    "\n",
    "# add genes table\n",
    "sqlite_conn = sqlite3.connect('data/mirscribe.db')\n",
    "genes = pd.read_sql('SELECT * FROM genes', sqlite_conn)\n",
    "mirnas = pd.read_sql('SELECT * FROM mirnas', sqlite_conn)\n",
    "sqlite_conn.close()\n"
   ]
  },
  {
   "cell_type": "code",
   "execution_count": null,
   "metadata": {},
   "outputs": [],
   "source": [
    "genes "
   ]
  },
  {
   "cell_type": "code",
   "execution_count": null,
   "metadata": {},
   "outputs": [],
   "source": [
    "\n",
    "\n",
    "# add genes table details\n",
    "cols_to_merge = ['gene_id', 'is_oncogene_oncokb', 'is_tsupp_oncokb',\n",
    "       'is_brca_driver', 'tier_cosmic', 'is_hallmark_cosmic',\n",
    "       'is_tsupp_cosmic', 'is_oncogene_cosmic', 'is_oncogene_consensus',\n",
    "       'is_tsupp_consensus', 'cancer_gene_role', \"is_brca_driver\"]\n",
    "\n",
    "df = pd.merge(df, genes[cols_to_merge], how=\"left\", on=\"gene_id\" )\n",
    "\n",
    "\n",
    "\n",
    "df.head()"
   ]
  },
  {
   "cell_type": "code",
   "execution_count": null,
   "metadata": {},
   "outputs": [],
   "source": [
    "df.to_csv(\"results/dec7_final_data.csv\", index=False)\n"
   ]
  }
 ],
 "metadata": {
  "kernelspec": {
   "display_name": "mirscribe-results-441TWRXV-py3.10",
   "language": "python",
   "name": "python3"
  },
  "language_info": {
   "codemirror_mode": {
    "name": "ipython",
    "version": 3
   },
   "file_extension": ".py",
   "mimetype": "text/x-python",
   "name": "python",
   "nbconvert_exporter": "python",
   "pygments_lexer": "ipython3",
   "version": "3.10.12"
  }
 },
 "nbformat": 4,
 "nbformat_minor": 2
}
